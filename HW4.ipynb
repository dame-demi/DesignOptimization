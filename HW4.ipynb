{
  "nbformat": 4,
  "nbformat_minor": 0,
  "metadata": {
    "colab": {
      "name": "HW4.ipynb",
      "provenance": [],
      "authorship_tag": "ABX9TyOedek6lP3NvpVQhcnyhGq+",
      "include_colab_link": true
    },
    "kernelspec": {
      "name": "python3",
      "display_name": "Python 3"
    },
    "language_info": {
      "name": "python"
    }
  },
  "cells": [
    {
      "cell_type": "markdown",
      "metadata": {
        "id": "view-in-github",
        "colab_type": "text"
      },
      "source": [
        "<a href=\"https://colab.research.google.com/github/dame-demi/DesignOptimization/blob/main/HW4.ipynb\" target=\"_parent\"><img src=\"https://colab.research.google.com/assets/colab-badge.svg\" alt=\"Open In Colab\"/></a>"
      ]
    },
    {
      "cell_type": "code",
      "metadata": {
        "id": "D1p-ByUe9SqX"
      },
      "source": [
        "import numpy as np\n",
        "import matplotlib.pyplot as plt\n",
        "\n",
        "# Specify the objective function \n",
        "def objective(x):\n",
        "    return x[0]**2+x[1]**2+x[2]**2"
      ],
      "execution_count": 1,
      "outputs": []
    },
    {
      "cell_type": "code",
      "metadata": {
        "id": "HHTU0QSzClvN"
      },
      "source": [
        "# Specify the gradient function as well\n",
        "def gradient(x):\n",
        "    return np.array([[2*x[0]],\n",
        "                     [2*x[1]],\n",
        "                     [2*x[2]]])"
      ],
      "execution_count": 2,
      "outputs": []
    },
    {
      "cell_type": "code",
      "metadata": {
        "id": "ZhSSexs9IsD3"
      },
      "source": [
        "# Specify the equality constraints\n",
        "def constraint(x):\n",
        "    return np.array([[x[0]**2/4 + x[1]**2/5 + x[2]**2/25 - 1],\n",
        "                     [x[0] + x[1] - x[2]]])"
      ],
      "execution_count": 3,
      "outputs": []
    },
    {
      "cell_type": "code",
      "metadata": {
        "id": "_SoWY35fQZOl"
      },
      "source": [
        "# Specify the gradient of the constraints \n",
        "def gconstraint(x): \n",
        "    return np.array([[x[0]/2, 2*x[1]/5, 2*x[2]/25],\n",
        "                     [1, 1, -1]])"
      ],
      "execution_count": 4,
      "outputs": []
    },
    {
      "cell_type": "code",
      "metadata": {
        "id": "YyHz-fZlZqne"
      },
      "source": [
        "#Turn linesearch on/off and define tolerance as well \n",
        "class Optimize():\n",
        "    \"Stores name and place pairs\"\n",
        "    def __init__(self, linesearch, tolerance):\n",
        "        self.l = linesearch \n",
        "        self.t = tolerance\n",
        "opt = Optimize(True, 1e-3)"
      ],
      "execution_count": 5,
      "outputs": []
    },
    {
      "cell_type": "code",
      "metadata": {
        "colab": {
          "base_uri": "https://localhost:8080/"
        },
        "id": "amywwC6ujPTv",
        "outputId": "9b067df0-76c5-4608-9264-be48e55c782d"
      },
      "source": [
        "# Implementing the gradient descent method \n",
        "d = 1;\n",
        "s0 = np.array([1,1])\n",
        "S0 = s0.reshape((2,1))\n",
        "b=[1,2]\n",
        "\n",
        "x = np.zeros((3,1))\n",
        "x[0] = d\n",
        "x[b]=S0\n",
        "x"
      ],
      "execution_count": 6,
      "outputs": [
        {
          "output_type": "execute_result",
          "data": {
            "text/plain": [
              "array([[1.],\n",
              "       [1.],\n",
              "       [1.]])"
            ]
          },
          "metadata": {},
          "execution_count": 6
        }
      ]
    },
    {
      "cell_type": "code",
      "metadata": {
        "id": "x5N9zp9tQ6sL"
      },
      "source": [
        "# Find inverse of H matrix\n",
        "def invH(H):\n",
        "  I = np.identity(2)\n",
        "  lamb = 1\n",
        "  invH = (np.transpose(H)*H+lamb*I)*np.transpose(H)\n",
        "  return invH"
      ],
      "execution_count": 7,
      "outputs": []
    },
    {
      "cell_type": "code",
      "metadata": {
        "colab": {
          "base_uri": "https://localhost:8080/"
        },
        "id": "_y1UHMUV2gUz",
        "outputId": "96886085-3613-40c0-9834-4bc4893387a8"
      },
      "source": [
        "# Solve the constraints h(x)\n",
        "s = x[b]\n",
        "h_v = constraint(x)\n",
        "h_va = h_v.reshape(2,1)\n",
        "h_n = np.linalg.norm(h_v)\n",
        "count_1 = 0\n",
        "\n",
        "while h_n > opt.t and count_1 < 10:\n",
        "  dh_v = gconstraint(x)\n",
        "  H = dh_v[:,2:3]\n",
        "  Hinv = invH(H)\n",
        "  s = x[b] - np.matmul(Hinv,h_va)\n",
        "  x[b] = s\n",
        "  h_v = constraint(x)\n",
        "  h_va = h_v.reshape(2,1)\n",
        "  h_n = np.linalg.norm(h_va)\n",
        "  count_1 = count_1 + 1\n",
        "\n"
      ],
      "execution_count": 8,
      "outputs": [
        {
          "output_type": "stream",
          "name": "stderr",
          "text": [
            "/usr/local/lib/python3.7/dist-packages/ipykernel_launcher.py:4: VisibleDeprecationWarning: Creating an ndarray from ragged nested sequences (which is a list-or-tuple of lists-or-tuples-or ndarrays with different lengths or shapes) is deprecated. If you meant to do this, you must specify 'dtype=object' when creating the ndarray\n",
            "  after removing the cwd from sys.path.\n"
          ]
        }
      ]
    },
    {
      "cell_type": "code",
      "metadata": {
        "colab": {
          "base_uri": "https://localhost:8080/",
          "height": 132
        },
        "id": "60oRfyVCsSTp",
        "outputId": "16b92a34-de77-411e-9947-f82401e80b4f"
      },
      "source": [
        "# Finishing the gradient descent method\n",
        "x[1] = d\n",
        "x[b] = s\n",
        "count = 0\n",
        "\n",
        "g_v = gradient(x)\n",
        "g_va = g_v.reshape(3,1)\n",
        "delh_v = gconstraint(x)\n",
        "delz = g_va[1] - g_va[b]*(delh_v[:,b]/np.transpose((delh_v[:,1])))\n",
        "g_n = np.linalg.norm(delz)\n",
        "\n",
        "while g_n>opt.t:\n",
        "  count=count + 1\n",
        "  d_s = -0.01 * delz[:,1]\n",
        "  d = d + d_s\n",
        "  d_n = d.reshape(2,1)\n",
        "  x[1] = d_n[1]\n",
        "  x[b] = s\n",
        "  delh_v=gconstraint(x)\n",
        "  s_s = -delh_v(:,b)/np.transpose(delh_v(:,d_n))*d_s\n",
        "  s_app = s + s_s\n",
        "  x[1] = d_n[1]\n",
        "  x[b] = s_app\n",
        "\n"
      ],
      "execution_count": 11,
      "outputs": [
        {
          "output_type": "error",
          "ename": "SyntaxError",
          "evalue": "ignored",
          "traceback": [
            "\u001b[0;36m  File \u001b[0;32m\"<ipython-input-11-210872ac7752>\"\u001b[0;36m, line \u001b[0;32m20\u001b[0m\n\u001b[0;31m    s_s = -delh_v(:,b)/np.transpose(delh_v(:,d_n))*d_s\u001b[0m\n\u001b[0m                  ^\u001b[0m\n\u001b[0;31mSyntaxError\u001b[0m\u001b[0;31m:\u001b[0m invalid syntax\n"
          ]
        }
      ]
    }
  ]
}