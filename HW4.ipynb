{
  "nbformat": 4,
  "nbformat_minor": 0,
  "metadata": {
    "colab": {
      "name": "HW4.ipynb",
      "provenance": [],
      "authorship_tag": "ABX9TyMVPTXLN9tNFN8ldy1OFNVa",
      "include_colab_link": true
    },
    "kernelspec": {
      "name": "python3",
      "display_name": "Python 3"
    },
    "language_info": {
      "name": "python"
    }
  },
  "cells": [
    {
      "cell_type": "markdown",
      "metadata": {
        "id": "view-in-github",
        "colab_type": "text"
      },
      "source": [
        "<a href=\"https://colab.research.google.com/github/dame-demi/DesignOptimization/blob/main/HW4.ipynb\" target=\"_parent\"><img src=\"https://colab.research.google.com/assets/colab-badge.svg\" alt=\"Open In Colab\"/></a>"
      ]
    },
    {
      "cell_type": "code",
      "metadata": {
        "id": "D1p-ByUe9SqX"
      },
      "source": [
        "import numpy as np\n",
        "import matplotlib.pyplot as plt\n",
        "\n",
        "# Specify the objective function \n",
        "def objective(x):\n",
        "    return x(1)**2+x(2)**2+x(3)**2"
      ],
      "execution_count": 4,
      "outputs": []
    },
    {
      "cell_type": "code",
      "metadata": {
        "id": "HHTU0QSzClvN"
      },
      "source": [
        "# Specify the gradient function as well\n",
        "def gradient(x):\n",
        "    return np.array([[2*x(1)]\n",
        "                     [2*x(2)]\n",
        "                     [2*x(3)]])"
      ],
      "execution_count": 2,
      "outputs": []
    },
    {
      "cell_type": "code",
      "metadata": {
        "id": "ZhSSexs9IsD3"
      },
      "source": [
        "# Specify the equality constraints\n",
        "def constraint(x):\n",
        "    return np.array([[x(1)**2/4 + x(2)**2/5 + x(3)**2/25 - 1]\n",
        "                     [x(1) + x(2) - x(3)]])"
      ],
      "execution_count": 3,
      "outputs": []
    },
    {
      "cell_type": "code",
      "metadata": {
        "id": "_SoWY35fQZOl"
      },
      "source": [
        "# Specify the gradient of the constraints \n",
        "def gconstraint(x): \n",
        "    return np.array([[x(1)/2, 2*x(2)/5, 2*x(3)/25]\n",
        "                     [1, 1, -1]])"
      ],
      "execution_count": 5,
      "outputs": []
    },
    {
      "cell_type": "code",
      "metadata": {
        "id": "YyHz-fZlZqne"
      },
      "source": [
        "#Turn linesearch on/off and define tolerance as well \n",
        "class Optimize():\n",
        "    \"Stores name and place pairs\"\n",
        "    def __init__(self, linesearch, tolerance):\n",
        "        self.l = linesearch \n",
        "        self.t = tolerance\n",
        "opt = Optimize(True, 1e-3)"
      ],
      "execution_count": 27,
      "outputs": []
    }
  ]
}