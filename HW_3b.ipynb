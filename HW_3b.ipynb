{
  "nbformat": 4,
  "nbformat_minor": 0,
  "metadata": {
    "colab": {
      "name": "HW 3b",
      "provenance": [],
      "authorship_tag": "ABX9TyPg2ATVTQEFer9cxUq4gDRy",
      "include_colab_link": true
    },
    "kernelspec": {
      "name": "python3",
      "display_name": "Python 3"
    },
    "language_info": {
      "name": "python"
    }
  },
  "cells": [
    {
      "cell_type": "markdown",
      "metadata": {
        "id": "view-in-github",
        "colab_type": "text"
      },
      "source": [
        "<a href=\"https://colab.research.google.com/github/dame-demi/DesignOptimization/blob/main/HW_3b.ipynb\" target=\"_parent\"><img src=\"https://colab.research.google.com/assets/colab-badge.svg\" alt=\"Open In Colab\"/></a>"
      ]
    },
    {
      "cell_type": "code",
      "metadata": {
        "colab": {
          "base_uri": "https://localhost:8080/",
          "height": 629
        },
        "id": "b-6Gm8SITRPO",
        "outputId": "57c1e2fd-0e08-4c31-d529-f714e12a756d"
      },
      "source": [
        "import numpy as np \n",
        "\n",
        "%matplotlib inline\n",
        "\n",
        "bounds = np.array([[-3.0], [3.0]])\n",
        "bounds_1=np.array([[-2.0], [2.0]])\n",
        "\n",
        "noise = 0.2\n",
        "\n",
        "def f(X1, X2, noise=noise):\n",
        "    return -((4 - 2.1*X1**2 + (X1**4)/3)*X1**2 + X1*X2 + (-4 + 4*X2**2)*X2**2 + noise * np.random.randn(*X1.shape) +  noise * np.random.randn(*X2.shape))\n",
        "\n",
        "X_init = np.array([[-0.9], [1.1]])\n",
        "Y_init = f(X_init[0],X_init[1])\n",
        "\n",
        "import matplotlib.pyplot as plt\n",
        "\n",
        "# Dense grid of points within bounds\n",
        "X1 = np.arange(bounds[0], bounds[1],0.06).reshape(-1, 1)\n",
        "X2=  np.arange(bounds_1[0], bounds_1[1],0.04).reshape(-1, 1)\n",
        "\n",
        "# Noise-free objective function values at X \n",
        "Y = f(X1,X2,0)\n",
        "\n",
        "# Plot optimization objective with noise level \n",
        "plt.plot(X1, Y, 'y--', lw=2, label='Noise-free objective')\n",
        "plt.plot(X1, f(X1,X2), 'bx', lw=1, alpha=0.1, label='Noisy samples')\n",
        "plt.plot(X_init[1], Y_init, 'kx', mew=3, label='Initial samples')\n",
        "plt.legend();\n",
        "\n",
        "from scipy.stats import norm\n",
        "\n",
        "def expected_improvement(X1, X2, X_sample, Y_sample, gpr, xi=0.01):\n",
        "    '''\n",
        "    Computes the EI at points X based on existing samples X_sample\n",
        "    and Y_sample using a Gaussian process surrogate model.\n",
        "    \n",
        "    Args:\n",
        "        X: Points at which EI shall be computed (m x d).\n",
        "        X_sample: Sample locations (n x d).\n",
        "        Y_sample: Sample values (n x 1).\n",
        "        gpr: A GaussianProcessRegressor fitted to samples.\n",
        "        xi: Exploitation-exploration trade-off parameter.\n",
        "    \n",
        "    Returns:\n",
        "        Expected improvements at points X.\n",
        "    '''\n",
        "    mu, sigma = gpr.predict(X1, X2, return_std=True)\n",
        "    mu_sample = gpr.predict(X_sample)\n",
        "\n",
        "    sigma = sigma.reshape(-1, 1)\n",
        "    \n",
        "    # Needed for noise-based model,\n",
        "    # otherwise use np.max(Y_sample).\n",
        "    # See also section 2.4 in [1]\n",
        "    mu_sample_opt = np.max(mu_sample)\n",
        "\n",
        "    with np.errstate(divide='warn'):\n",
        "        imp = mu - mu_sample_opt - xi\n",
        "        Z = imp / sigma\n",
        "        ei = imp * norm.cdf(Z) + sigma * norm.pdf(Z)\n",
        "        ei[sigma == 0.0] = 0.0\n",
        "\n",
        "    return ei\n",
        "\n",
        "from scipy.optimize import minimize\n",
        "\n",
        "def propose_location(acquisition, X_sample, Y_sample, gpr, bounds, n_restarts=25):\n",
        "    '''\n",
        "    Proposes the next sampling point by optimizing the acquisition function.\n",
        "    \n",
        "    Args:\n",
        "        acquisition: Acquisition function.\n",
        "        X_sample: Sample locations (n x d).\n",
        "        Y_sample: Sample values (n x 1).\n",
        "        gpr: A GaussianProcessRegressor fitted to samples.\n",
        "\n",
        "    Returns:\n",
        "        Location of the acquisition function maximum.\n",
        "    '''\n",
        "    dim = X_sample.shape[1]\n",
        "    min_val = 1\n",
        "    min_x = None\n",
        "    \n",
        "    def min_obj(X):\n",
        "        # Minimization objective is the negative acquisition function\n",
        "        return -acquisition(X1.reshape(-1, dim), X_sample, Y_sample, gpr)\n",
        "    \n",
        "    # Find the best optimum by starting from n_restart different random points.\n",
        "    for x0 in np.random.uniform(bounds[:, 0], bounds[:, 1], size=(n_restarts, dim)):\n",
        "        res = minimize(min_obj, x0=x0, bounds=bounds, method='L-BFGS-B')        \n",
        "        if res.fun < min_val:\n",
        "            min_val = res.fun[0]\n",
        "            min_x = res.x           \n",
        "            \n",
        "    return min_x.reshape(-1, 1)\n",
        "\n",
        "from sklearn.gaussian_process import GaussianProcessRegressor\n",
        "from sklearn.gaussian_process.kernels import ConstantKernel, Matern\n",
        "from bayesian_optimization_util import plot_approximation, plot_acquisition\n",
        "\n",
        "# Gaussian process with Mat??rn kernel as surrogate model\n",
        "m52 = ConstantKernel(1.0) * Matern(length_scale=1.0, nu=2.5)\n",
        "gpr = GaussianProcessRegressor(kernel=m52, alpha=noise**2)\n",
        "\n",
        "# Initialize samples\n",
        "X_sample = X_init\n",
        "Y_sample = Y_init\n",
        "\n",
        "# Number of iterations\n",
        "n_iter = 10\n",
        "\n",
        "plt.figure(figsize=(12, n_iter * 3))\n",
        "plt.subplots_adjust(hspace=0.4)\n",
        "\n",
        "for i in range(n_iter):\n",
        "    # Update Gaussian process with existing samples\n",
        "    gpr.fit(X_sample, Y_sample)\n",
        "\n",
        "    # Obtain next sampling point from the acquisition function (expected_improvement)\n",
        "    X_next = propose_location(expected_improvement, X_sample, Y_sample, gpr, bounds)\n",
        "    \n",
        "    # Obtain next noisy sample from the objective function\n",
        "    Y_next = f(X_next, noise)\n",
        "    \n",
        "    # Plot samples, surrogate function, noise-free objective and next sampling location\n",
        "    plt.subplot(n_iter, 2, 2 * i + 1)\n",
        "    plot_approximation(gpr, X1, Y, X_sample, Y_sample, X_next, show_legend=i==0)\n",
        "    plt.title(f'Iteration {i+1}')\n",
        "\n",
        "    plt.subplot(n_iter, 2, 2 * i + 2)\n",
        "    plot_acquisition(X1, expected_improvement(X1, X_sample, Y_sample, gpr), X_next, show_legend=i==0)\n",
        "    \n",
        "    # Add sample to previous samples\n",
        "    X_sample = np.vstack((X_sample, X_next))\n",
        "    Y_sample = np.vstack((Y_sample, Y_next))\n"
      ],
      "execution_count": 1,
      "outputs": [
        {
          "output_type": "error",
          "ename": "ModuleNotFoundError",
          "evalue": "ignored",
          "traceback": [
            "\u001b[0;31m---------------------------------------------------------------------------\u001b[0m",
            "\u001b[0;31mModuleNotFoundError\u001b[0m                       Traceback (most recent call last)",
            "\u001b[0;32m<ipython-input-1-50f6c215ef1f>\u001b[0m in \u001b[0;36m<module>\u001b[0;34m()\u001b[0m\n\u001b[1;32m     98\u001b[0m \u001b[0;32mfrom\u001b[0m \u001b[0msklearn\u001b[0m\u001b[0;34m.\u001b[0m\u001b[0mgaussian_process\u001b[0m \u001b[0;32mimport\u001b[0m \u001b[0mGaussianProcessRegressor\u001b[0m\u001b[0;34m\u001b[0m\u001b[0;34m\u001b[0m\u001b[0m\n\u001b[1;32m     99\u001b[0m \u001b[0;32mfrom\u001b[0m \u001b[0msklearn\u001b[0m\u001b[0;34m.\u001b[0m\u001b[0mgaussian_process\u001b[0m\u001b[0;34m.\u001b[0m\u001b[0mkernels\u001b[0m \u001b[0;32mimport\u001b[0m \u001b[0mConstantKernel\u001b[0m\u001b[0;34m,\u001b[0m \u001b[0mMatern\u001b[0m\u001b[0;34m\u001b[0m\u001b[0;34m\u001b[0m\u001b[0m\n\u001b[0;32m--> 100\u001b[0;31m \u001b[0;32mfrom\u001b[0m \u001b[0mbayesian_optimization_util\u001b[0m \u001b[0;32mimport\u001b[0m \u001b[0mplot_approximation\u001b[0m\u001b[0;34m,\u001b[0m \u001b[0mplot_acquisition\u001b[0m\u001b[0;34m\u001b[0m\u001b[0;34m\u001b[0m\u001b[0m\n\u001b[0m\u001b[1;32m    101\u001b[0m \u001b[0;34m\u001b[0m\u001b[0m\n\u001b[1;32m    102\u001b[0m \u001b[0;31m# Gaussian process with Mat??rn kernel as surrogate model\u001b[0m\u001b[0;34m\u001b[0m\u001b[0;34m\u001b[0m\u001b[0;34m\u001b[0m\u001b[0m\n",
            "\u001b[0;31mModuleNotFoundError\u001b[0m: No module named 'bayesian_optimization_util'",
            "",
            "\u001b[0;31m---------------------------------------------------------------------------\u001b[0;32m\nNOTE: If your import is failing due to a missing package, you can\nmanually install dependencies using either !pip or !apt.\n\nTo view examples of installing some common dependencies, click the\n\"Open Examples\" button below.\n\u001b[0;31m---------------------------------------------------------------------------\u001b[0m\n"
          ],
          "errorDetails": {
            "actions": [
              {
                "action": "open_url",
                "actionText": "Open Examples",
                "url": "/notebooks/snippets/importing_libraries.ipynb"
              }
            ]
          }
        },
        {
          "output_type": "display_data",
          "data": {
            "image/png": "[encoded data removed]",
            "text/plain": [
              "<Figure size 432x288 with 1 Axes>"
            ]
          },
          "metadata": {
            "needs_background": "light"
          }
        }
      ]
    }
  ]
}