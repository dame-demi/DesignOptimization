{
  "nbformat": 4,
  "nbformat_minor": 0,
  "metadata": {
    "colab": {
      "name": "Homework 2.ipynb",
      "provenance": [],
      "collapsed_sections": [],
      "authorship_tag": "ABX9TyMFCx4OeRXoMebdHxGT19h7",
      "include_colab_link": true
    },
    "kernelspec": {
      "name": "python3",
      "display_name": "Python 3"
    },
    "language_info": {
      "name": "python"
    }
  },
  "cells": [
    {
      "cell_type": "markdown",
      "metadata": {
        "id": "view-in-github",
        "colab_type": "text"
      },
      "source": [
        "<a href=\"https://colab.research.google.com/github/dame-demi/DesignOptimization/blob/main/Homework_2.ipynb\" target=\"_parent\"><img src=\"https://colab.research.google.com/assets/colab-badge.svg\" alt=\"Open In Colab\"/></a>"
      ]
    },
    {
      "cell_type": "markdown",
      "metadata": {
        "id": "GkKXotrgA_V9"
      },
      "source": [
        "Gradient descent for HW 2 Problem 2 with initial guesses as [0,0] and final solutions as [0.57,0.14]"
      ]
    },
    {
      "cell_type": "code",
      "metadata": {
        "colab": {
          "base_uri": "https://localhost:8080/",
          "height": 284
        },
        "id": "-nRi3VUEdkEX",
        "outputId": "bb86dc70-f75c-432e-a044-959456b7ad5a"
      },
      "source": [
        "import numpy as np \n",
        "import matplotlib.pyplot as plt\n",
        "\n",
        "obj = lambda x: (1- 2*x[0] + 3*x[1])**2 + x[0]**2 + (x[1]-1)**2\n",
        "def grad(x): \n",
        "    return (10*x[0] - 12*x[1] - 4), (-12*x[0] + 20*x[1] + 4)\n",
        "eps = 1e-3\n",
        "x0 = np.zeros((2) , dtype=int)\n",
        "k = 0\n",
        "iter=[k]\n",
        "soln = [x0]\n",
        "x = soln[k]\n",
        "err = np.linalg.norm(grad(x))\n",
        "error = [err]\n",
        "a = 1e-2\n",
        "\n",
        "while err >= eps:\n",
        "    x = x - np.multiply(grad(x),a)\n",
        "    soln.append(x)\n",
        "    err = np.linalg.norm(grad(x))\n",
        "    error.append(err)\n",
        "    k=k+1\n",
        "    iter.append(k)\n",
        "\n",
        "log_err=np.log(error)\n",
        "plt.scatter(iter,log_err)\n",
        "plt.show()\n",
        "\n",
        "print(x)\n",
        "#fig=plt.figure()\n",
        "#ax=plt.axes()\n",
        "\n",
        "#ax.plot(iter,log_err)\n",
        "\n",
        "#error"
      ],
      "execution_count": 18,
      "outputs": [
        {
          "output_type": "display_data",
          "data": {
            "image/png": "[encoded data removed]",
            "text/plain": [
              "<Figure size 432x288 with 1 Axes>"
            ]
          },
          "metadata": {
            "needs_background": "light"
          }
        },
        {
          "output_type": "stream",
          "name": "stdout",
          "text": [
            "[0.57102036 0.142585  ]\n"
          ]
        }
      ]
    },
    {
      "cell_type": "markdown",
      "metadata": {
        "id": "F7jZdhFZCz1K"
      },
      "source": [
        "# New Section"
      ]
    },
    {
      "cell_type": "markdown",
      "metadata": {
        "id": "jdqI513KaO9R"
      },
      "source": [
        "Newton's algorithm for HW2 Problem 2\n"
      ]
    },
    {
      "cell_type": "code",
      "metadata": {
        "colab": {
          "base_uri": "https://localhost:8080/"
        },
        "id": "naAt37rwaZhq",
        "outputId": "9af1cfcb-5a71-432e-86d9-adf1cb71d7ab"
      },
      "source": [
        "import numpy as np\n",
        "import matplotlib.pyplot as plt\n",
        "\n",
        "obj = lambda x: (1- 2*x[0] + 3*x[1])**2 + x[0]**2 + (x[1]-1)**2\n",
        "def grad(x): \n",
        "    return (10*x[0] - 12*x[1] - 4), (-12*x[0] + 20*x[1] + 4)\n",
        "Hess = np.asarray(([[10,-12],[-12,20]]))\n",
        "\n",
        "eps = 1e-3\n",
        "x0 = np.zeros((2) , dtype=int)\n",
        "k = 0\n",
        "iter=[k]\n",
        "soln = [x0]\n",
        "x = soln[k]\n",
        "invH = np.linalg.inv(Hess)\n",
        "err = np.linalg.norm(grad(x))\n",
        "error = [err]\n",
        "a = 1\n",
        "\n",
        "def phi(a,x):\n",
        "    func = obj(x)\n",
        "    corr = a*0.8*np.dot(np.transpose(grad(x)), grad(x))\n",
        "    return func - corr\n",
        "\n",
        "def line_search(x):\n",
        "    a = 1\n",
        "    d = -np.matmul(invH , grad(x))\n",
        "    phi = lambda a,x: obj(x) + a * 0.8 * np.dot(np.transpose(grad(x)) , d)\n",
        "    \n",
        "    while phi(a,x) < obj(x-a*np.matmul(invH , grad(x))):\n",
        "        a = 0.5*a\n",
        "    return a\n",
        "\n",
        "while err >= eps:\n",
        "    a = line_search(x)\n",
        "    x = x - np.multiply(grad(x),a)\n",
        "    soln.append(x)\n",
        "    err = np.linalg.norm(grad(x))\n",
        "    error.append(err)\n",
        "    k=k+1\n",
        "    iter.append(k)\n"
      ],
      "execution_count": 7,
      "outputs": [
        {
          "output_type": "stream",
          "name": "stdout",
          "text": [
            "[nan]\n"
          ]
        },
        {
          "output_type": "stream",
          "name": "stderr",
          "text": [
            "/usr/local/lib/python3.7/dist-packages/ipykernel_launcher.py:4: RuntimeWarning: overflow encountered in double_scalars\n",
            "  after removing the cwd from sys.path.\n",
            "/usr/local/lib/python3.7/dist-packages/ipykernel_launcher.py:28: RuntimeWarning: invalid value encountered in double_scalars\n",
            "/usr/local/lib/python3.7/dist-packages/ipykernel_launcher.py:6: RuntimeWarning: overflow encountered in double_scalars\n",
            "  \n",
            "/usr/local/lib/python3.7/dist-packages/ipykernel_launcher.py:27: RuntimeWarning: invalid value encountered in matmul\n",
            "/usr/local/lib/python3.7/dist-packages/ipykernel_launcher.py:30: RuntimeWarning: invalid value encountered in matmul\n",
            "/usr/local/lib/python3.7/dist-packages/ipykernel_launcher.py:36: RuntimeWarning: invalid value encountered in subtract\n"
          ]
        }
      ]
    }
  ]
}