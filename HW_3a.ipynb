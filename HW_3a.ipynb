{
  "nbformat": 4,
  "nbformat_minor": 0,
  "metadata": {
    "colab": {
      "name": "HW 3a",
      "provenance": [],
      "authorship_tag": "ABX9TyM+vgLo/RXAcNrjyTyvPqND",
      "include_colab_link": true
    },
    "kernelspec": {
      "name": "python3",
      "display_name": "Python 3"
    },
    "language_info": {
      "name": "python"
    }
  },
  "cells": [
    {
      "cell_type": "markdown",
      "metadata": {
        "id": "view-in-github",
        "colab_type": "text"
      },
      "source": [
        "<a href=\"https://colab.research.google.com/github/dame-demi/DesignOptimization/blob/main/HW_3a.ipynb\" target=\"_parent\"><img src=\"https://colab.research.google.com/assets/colab-badge.svg\" alt=\"Open In Colab\"/></a>"
      ]
    },
    {
      "cell_type": "code",
      "metadata": {
        "id": "CF8Gbl6VniMp"
      },
      "source": [
        "import numpy as np \n",
        "import scipy.optimize as optimize\n",
        "import matplotlib.pyplot as plt\n",
        "\n",
        "x1=np.arange(0,1,0.1)\n",
        "p=np.array([28.1,34.4,36.7,36.9,36.8,36.7,36.5,35.4,32.9,27.7,17.5])"
      ],
      "execution_count": 1,
      "outputs": []
    }
  ]
}