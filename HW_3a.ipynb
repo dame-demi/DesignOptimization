{
  "nbformat": 4,
  "nbformat_minor": 0,
  "metadata": {
    "colab": {
      "name": "HW 3a",
      "provenance": [],
      "authorship_tag": "ABX9TyOWau4f0m7iU+L9P/78xsWc",
      "include_colab_link": true
    },
    "kernelspec": {
      "name": "python3",
      "display_name": "Python 3"
    },
    "language_info": {
      "name": "python"
    }
  },
  "cells": [
    {
      "cell_type": "markdown",
      "metadata": {
        "id": "view-in-github",
        "colab_type": "text"
      },
      "source": [
        "<a href=\"https://colab.research.google.com/github/dame-demi/DesignOptimization/blob/main/HW_3a.ipynb\" target=\"_parent\"><img src=\"https://colab.research.google.com/assets/colab-badge.svg\" alt=\"Open In Colab\"/></a>"
      ]
    },
    {
      "cell_type": "code",
      "metadata": {
        "colab": {
          "base_uri": "https://localhost:8080/",
          "height": 366
        },
        "id": "CF8Gbl6VniMp",
        "outputId": "9ae565ea-04a6-4c5a-b2d3-fa010a3045da"
      },
      "source": [
        "import numpy as np \n",
        "import scipy.optimize as optimize\n",
        "import matplotlib.pyplot as plt\n",
        "import math \n",
        "\n",
        "x1=np.arange(0,1.1,0.1)\n",
        "x2=1-x1\n",
        "p=np.array([28.1,34.4,36.7,36.9,36.8,36.7,36.5,35.4,32.9,27.7,17.5])\n",
        "a=np.array([[8.07131,1730.63,233.426],\n",
        "            [7.43155,1554.679,240.337]])\n",
        "a1=a[:,0]\n",
        "a2=a[:,1]\n",
        "a3=a[:,2]\n",
        "n = len(x1)\n",
        "\n",
        "def psat(a1,a2,a3):\n",
        "    return 10**(a1-(a2/(20+a3)))\n",
        "\n",
        "def pequil(x1,A1,A2):\n",
        "    x2=1-x1\n",
        "    return x1*np.exp(A1*(A2*x2/(A1*x1+A2*x2))**2)*psat(8.07131,1730.63,233.426) + x2*np.exp(A2*(A1*x1/(A1*x1+A2*x2))**2)*psat(7.43155,1554.679,240.337)\n",
        "\n",
        "alpha, beta = optimize.curve_fit(pequil,x1,p)\n",
        "\n",
        "print(alpha)\n",
        "print(beta[0])\n",
        "\n",
        "y=np.zeros(n)\n",
        "for i in range(n): \n",
        "  y[i]=pequil(x1[i],alpha[0],alpha[1])\n",
        "  \n",
        "plt.scatter(x1,p,color=\"blue\",label=\"p\",linewidth=2)\n",
        "plt.plot(x1,y,color=\"red\",label=\"p_equil\",linewidth=2)\n",
        "plt.xlabel('x1')\n",
        "plt.ylabel('p')\n",
        "plt.title('Actual versus Optimized')\n",
        "plt.legend()\n",
        "print(\"A12=\",alpha[0])\n",
        "print(\"A21=\",alpha[1])"
      ],
      "execution_count": 43,
      "outputs": [
        {
          "output_type": "stream",
          "name": "stdout",
          "text": [
            "[1.95841967 1.689185  ]\n",
            "[ 0.00093597 -0.00062248]\n",
            "A12= 1.95841966952408\n",
            "A21= 1.6891850023576693\n"
          ]
        },
        {
          "output_type": "display_data",
          "data": {
            "image/png": "[encoded data removed]",
            "text/plain": [
              "<Figure size 432x288 with 1 Axes>"
            ]
          },
          "metadata": {
            "needs_background": "light"
          }
        }
      ]
    }
  ]
}