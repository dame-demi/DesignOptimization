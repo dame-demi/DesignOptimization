{
 "cells": [
  {
   "cell_type": "code",
   "execution_count": 8,
   "id": "46491124",
   "metadata": {},
   "outputs": [],
   "source": [
    "from scipy.optimize import minimize\n",
    "\n",
    "fun = lambda x: (x[0]-x[1])**2 + (x[1]+x[2]-2)**2 + (x[3]-1)**2 + (x[4]-1)**2\n",
    "cons = ({'type': 'eq', 'fun': lambda x:  x[0] + 3 * x[1]},\n",
    "        {'type': 'eq', 'fun': lambda x:  x[2] + x[3] - 2 * x[4]},\n",
    "        {'type': 'eq', 'fun': lambda x:  x[1] - x[4]})\n",
    "bnds = ((-10, 10), (-10, 10), (-10, 10), (-10, 10), (-10, 10))\n",
    "res = minimize(fun, (1,1,1,1,1), method='SLSQP', bounds=bnds,\n",
    "               constraints=cons)"
   ]
  },
  {
   "cell_type": "code",
   "execution_count": 10,
   "id": "e6cba74e",
   "metadata": {},
   "outputs": [
    {
     "data": {
      "text/plain": [
       "     fun: 4.09302326452976\n",
       "     jac: array([-2.04664832, -0.18578869, -2.23243701, -2.23257673, -1.48833793])\n",
       " message: 'Optimization terminated successfully'\n",
       "    nfev: 38\n",
       "     nit: 6\n",
       "    njev: 6\n",
       "  status: 0\n",
       " success: True\n",
       "       x: array([-0.76749312,  0.25583104,  0.62795044, -0.11628835,  0.25583104])"
      ]
     },
     "execution_count": 10,
     "metadata": {},
     "output_type": "execute_result"
    }
   ],
   "source": [
    "res"
   ]
  },
  {
   "cell_type": "code",
   "execution_count": 11,
   "id": "6b3cdc9a",
   "metadata": {},
   "outputs": [
    {
     "data": {
      "text/plain": [
       "array([-0.76749312,  0.25583104,  0.62795044, -0.11628835,  0.25583104])"
      ]
     },
     "execution_count": 11,
     "metadata": {},
     "output_type": "execute_result"
    }
   ],
   "source": [
    "res.x"
   ]
  },
  {
   "cell_type": "code",
   "execution_count": 12,
   "id": "8c0abed6",
   "metadata": {},
   "outputs": [
    {
     "data": {
      "text/plain": [
       "4.09302326452976"
      ]
     },
     "execution_count": 12,
     "metadata": {},
     "output_type": "execute_result"
    }
   ],
   "source": [
    "res.fun"
   ]
  },
  {
   "cell_type": "code",
   "execution_count": 13,
   "id": "d268ea6f",
   "metadata": {},
   "outputs": [],
   "source": [
    "from scipy.optimize import minimize\n",
    "\n",
    "fun = lambda x: (x[0]-x[1])**2 + (x[1]+x[2]-2)**2 + (x[3]-1)**2 + (x[4]-1)**2\n",
    "cons = ({'type': 'eq', 'fun': lambda x:  x[0] + 3 * x[1]},\n",
    "        {'type': 'eq', 'fun': lambda x:  x[2] + x[3] - 2 * x[4]},\n",
    "        {'type': 'eq', 'fun': lambda x:  x[1] - x[4]})\n",
    "bnds = ((-10, 10), (-10, 10), (-10, 10), (-10, 10), (-10, 10))\n",
    "res = minimize(fun, (1,2,-5,4,1), method='SLSQP', bounds=bnds,\n",
    "               constraints=cons)"
   ]
  },
  {
   "cell_type": "code",
   "execution_count": 14,
   "id": "49124c1a",
   "metadata": {},
   "outputs": [
    {
     "data": {
      "text/plain": [
       "array([-0.76744186,  0.25581395,  0.62790697, -0.11627907,  0.25581395])"
      ]
     },
     "execution_count": 14,
     "metadata": {},
     "output_type": "execute_result"
    }
   ],
   "source": [
    "res.x"
   ]
  },
  {
   "cell_type": "code",
   "execution_count": 15,
   "id": "b3bd01ff",
   "metadata": {},
   "outputs": [
    {
     "data": {
      "text/plain": [
       "4.093023255813954"
      ]
     },
     "execution_count": 15,
     "metadata": {},
     "output_type": "execute_result"
    }
   ],
   "source": [
    "res.fun"
   ]
  },
  {
   "cell_type": "code",
   "execution_count": 16,
   "id": "b38af566",
   "metadata": {},
   "outputs": [
    {
     "data": {
      "text/plain": [
       "     fun: 4.093023255813954\n",
       "     jac: array([-2.04651165, -0.18604648, -2.23255813, -2.23255813, -1.48837209])\n",
       " message: 'Optimization terminated successfully'\n",
       "    nfev: 37\n",
       "     nit: 6\n",
       "    njev: 6\n",
       "  status: 0\n",
       " success: True\n",
       "       x: array([-0.76744186,  0.25581395,  0.62790697, -0.11627907,  0.25581395])"
      ]
     },
     "execution_count": 16,
     "metadata": {},
     "output_type": "execute_result"
    }
   ],
   "source": [
    "res"
   ]
  },
  {
   "cell_type": "markdown",
   "id": "60d21ff8",
   "metadata": {},
   "source": [
    "For the first optimization, the initial guesses were all 1 and it took 38 guesses before the optimization process was terminated. In the case of the second optimization, the some of the initial guesses were changed to numbers between the bounds not equal to 1. It took the second optimization 37 evaluations and the solutions were changed but approximately the same. Only a few of the decimals were different."
   ]
  },
  {
   "cell_type": "code",
   "execution_count": null,
   "id": "9c90a7ef",
   "metadata": {},
   "outputs": [],
   "source": []
  }
 ],
 "metadata": {
  "kernelspec": {
   "display_name": "Python 3",
   "language": "python",
   "name": "python3"
  },
  "language_info": {
   "codemirror_mode": {
    "name": "ipython",
    "version": 3
   },
   "file_extension": ".py",
   "mimetype": "text/x-python",
   "name": "python",
   "nbconvert_exporter": "python",
   "pygments_lexer": "ipython3",
   "version": "3.8.8"
  }
 },
 "nbformat": 4,
 "nbformat_minor": 5
}
